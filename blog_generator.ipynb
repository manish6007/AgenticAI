{
 "cells": [
  {
   "cell_type": "code",
   "execution_count": 1,
   "metadata": {},
   "outputs": [],
   "source": [
    "import os\n",
    "from dotenv import load_dotenv\n",
    "load_dotenv()\n",
    "\n",
    "os.environ[\"GROQ_API_KEY\"]=os.getenv(\"GROQ_API_KEY\")\n"
   ]
  },
  {
   "cell_type": "code",
   "execution_count": 6,
   "metadata": {},
   "outputs": [],
   "source": [
    "from typing import Annotated\n",
    "from typing_extensions import TypedDict\n",
    "from langchain_core.messages import AnyMessage, SystemMessage,HumanMessage\n",
    "from langgraph.graph.message import add_messages\n",
    "\n",
    "class State(TypedDict):\n",
    "    messages: Annotated[list[AnyMessage], add_messages]"
   ]
  },
  {
   "cell_type": "code",
   "execution_count": 7,
   "metadata": {},
   "outputs": [],
   "source": [
    "from langchain_groq import ChatGroq\n",
    "\n",
    "model = ChatGroq(model=\"Gemma2-9b-It\", temperature=0.7)"
   ]
  },
  {
   "cell_type": "code",
   "execution_count": 8,
   "metadata": {},
   "outputs": [],
   "source": [
    "from langgraph.graph import StateGraph, START, END\n",
    "def make_blog_generation_graph():\n",
    "    \"\"\"Create a blog generation agent\"\"\"\n",
    "    graph_workflow = StateGraph(State)\n",
    "\n",
    "    \n",
    "    # Step 1: Generate title based on the topic\n",
    "    def generate_title(state):\n",
    "        prompt_1 = SystemMessage(content=\"As an experienced writer generate one blog title.\")\n",
    "        return {\"messages\":[model.invoke([prompt_1] + state[\"messages\"])]}\n",
    "\n",
    "    # Step 2: Generate content based on the title\n",
    "    def generate_content(state):\n",
    "        prompt_2 = SystemMessage(content=\"As an experienced content creator write a blog with 500 word limit in 4 paragraphs.\")\n",
    "        return {\"messages\":[model.invoke([prompt_2] + state[\"messages\"])]}\n",
    "\n",
    "    # Add nodes to the graph\n",
    "    graph_workflow.add_node(\"title_generation\", generate_title)\n",
    "    graph_workflow.add_node(\"content_generation\", generate_content)\n",
    "    \n",
    "    # Define graph edges\n",
    "    graph_workflow.add_edge(\"title_generation\", \"content_generation\")\n",
    "    graph_workflow.add_edge(\"content_generation\", END)\n",
    "    graph_workflow.add_edge(START, \"title_generation\")\n",
    "\n",
    "    # Compile the graph into an executable agent\n",
    "    agent = graph_workflow.compile()\n",
    "    \n",
    "    return agent"
   ]
  },
  {
   "cell_type": "code",
   "execution_count": 9,
   "metadata": {},
   "outputs": [
    {
     "name": "stdout",
     "output_type": "stream",
     "text": [
      "Output from node: title_generation\n",
      "------\n",
      "##  Can Generative AI Write a Bestseller?  Exploring the Future of Storytelling \n",
      "\n",
      "\n",
      "------\n",
      "\n",
      "Output from node: content_generation\n",
      "------\n",
      " \n",
      "Generative AI is rapidly changing the landscape of creative industries, and the world of storytelling is no exception. This powerful technology, capable of crafting text, images, music, and even code, raises fascinating questions about the future of authorship and the very nature of creativity. While some fear AI will replace human writers, others see it as a revolutionary tool, empowering creators to explore new frontiers.  \n",
      "\n",
      "Currently, generative AI excels at mimicking existing styles and generating coherent text based on prompts.  ChatGPT, Dall-E, and other AI models can churn out poems, scripts, articles, and even novel-length stories.  However, these creations often lack the depth, nuance, and emotional resonance that come from lived experience and genuine human insight. AI can mimic the mechanics of storytelling, but it struggles to capture the essence of what makes a story truly compelling. \n",
      "\n",
      "The key lies in collaboration. Imagine AI as a powerful assistant, helping writers overcome writer's block, brainstorm ideas, or even generate drafts. Picture a world where authors leverage AI to craft intricate worlds, develop complex characters, or experiment with unconventional narrative structures. Instead of replacing human writers, AI can become a catalyst for innovation, pushing the boundaries of storytelling and enabling us to create narratives that were previously unimaginable.\n",
      "\n",
      "Ultimately, the future of storytelling lies in finding the right balance between human creativity and AI assistance. While AI may not be able to replace the human touch, it has the potential to revolutionize the way we create and consume stories.  By embracing this technology responsibly and ethically, we can unlock new possibilities and usher in a golden age of storytelling. \n",
      "\n",
      "\n",
      "------\n",
      "\n",
      "Generative AI\n",
      "## Beyond the Buzz: How Generative AI is Actually Changing the Writing Game \n",
      "\n",
      " \n",
      "Generative AI is everywhere these days, with headlines proclaiming the imminent demise of human creativity. While it's true this technology can churn out text, code, and even art at an astonishing pace, the reality is far less dramatic.  Generative AI isn't here to replace writers, but rather to empower them with new tools and possibilities. Think of it as a supercharged brainstorming partner, a tireless research assistant, and a grammar guru all rolled into one. \n",
      "\n",
      "Instead of fearing automation, content creators should embrace the potential of generative AI to streamline their workflows and unlock new creative avenues. Imagine crafting blog posts with AI-generated outlines, polishing your prose with AI-powered grammar and style suggestions, or even experimenting with different writing styles and tones to discover fresh perspectives. These tools can free up valuable time and mental energy, allowing writers to focus on the core elements of storytelling, crafting compelling narratives, and connecting with their audience on a deeper level.\n",
      "\n",
      "However, it's crucial to remember that AI is a tool, not a magic wand.  It requires human guidance, critical thinking, and ethical considerations.  While AI can generate impressive text, it often lacks the nuance, empathy, and originality that comes from human experience.  Therefore, the best approach is to view generative AI as a collaborative partner, leveraging its strengths while retaining human oversight and creativity.  \n",
      "\n",
      "Ultimately, the future of content creation lies in a harmonious blend of human ingenuity and AI-powered assistance. By embracing this partnership, writers can break free from mundane tasks, explore uncharted creative territories, and deliver content that is both engaging and impactful.  The writing game has evolved, and those who adapt and innovate will thrive in this exciting new era. \n",
      "\n",
      "\n",
      "\n"
     ]
    }
   ],
   "source": [
    "if __name__ == \"__main__\":\n",
    "    # Initialize the blog generation agent\n",
    "    blog_agent = make_blog_generation_graph()\n",
    "\n",
    "    # initialized initial state\n",
    "    initial_state = State(\n",
    "        messages=[HumanMessage(content=\"Generative AI\")]\n",
    "    )\n",
    "    response = blog_agent.invoke(initial_state) \n",
    "    \n",
    "    for output in blog_agent.stream(initial_state):\n",
    "        for key, value in output.items():\n",
    "            print(f\"Output from node: {key}\")\n",
    "            print(\"------\")\n",
    "            print(value['messages'][0].content)\n",
    "            print(\"\\n------\\n\")\n",
    "\n",
    "    for message in response[\"messages\"]:\n",
    "        print(message.content)"
   ]
  },
  {
   "cell_type": "code",
   "execution_count": 10,
   "metadata": {},
   "outputs": [
    {
     "data": {
      "image/png": "[encoded data removed]",
      "text/plain": [
       "<langgraph.graph.state.CompiledStateGraph object at 0x0000025AF38EB7A0>"
      ]
     },
     "execution_count": 10,
     "metadata": {},
     "output_type": "execute_result"
    }
   ],
   "source": [
    "blog_agent"
   ]
  },
  {
   "cell_type": "code",
   "execution_count": null,
   "metadata": {},
   "outputs": [],
   "source": []
  }
 ],
 "metadata": {
  "kernelspec": {
   "display_name": "Python 3",
   "language": "python",
   "name": "python3"
  },
  "language_info": {
   "codemirror_mode": {
    "name": "ipython",
    "version": 3
   },
   "file_extension": ".py",
   "mimetype": "text/x-python",
   "name": "python",
   "nbconvert_exporter": "python",
   "pygments_lexer": "ipython3",
   "version": "3.12.0"
  }
 },
 "nbformat": 4,
 "nbformat_minor": 2
}
