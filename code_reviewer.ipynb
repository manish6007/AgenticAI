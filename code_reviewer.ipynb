{
 "cells": [
  {
   "cell_type": "markdown",
   "metadata": {},
   "source": [
    "### Code reviewer"
   ]
  },
  {
   "cell_type": "code",
   "execution_count": 1,
   "metadata": {},
   "outputs": [
    {
     "data": {
      "text/plain": [
       "AIMessage(content='Hello! How can I assist you today?', additional_kwargs={}, response_metadata={'token_usage': {'completion_tokens': 10, 'prompt_tokens': 30, 'total_tokens': 40, 'completion_time': 0.05, 'prompt_time': 0.003688483, 'queue_time': 0.2362756, 'total_time': 0.053688483}, 'model_name': 'qwen-2.5-32b', 'system_fingerprint': 'fp_35f92f8282', 'finish_reason': 'stop', 'logprobs': None}, id='run-0238295a-b5a6-4eeb-b2f3-1f2afbb876f3-0', usage_metadata={'input_tokens': 30, 'output_tokens': 10, 'total_tokens': 40})"
      ]
     },
     "execution_count": 1,
     "metadata": {},
     "output_type": "execute_result"
    }
   ],
   "source": [
    "import os\n",
    "from dotenv import load_dotenv\n",
    "load_dotenv()\n",
    "\n",
    "from langchain_groq import ChatGroq\n",
    "\n",
    "\n",
    "#os.environ[\"OPENAI_API_KEY\"]=os.getenv(\"OPENAI_API_KEY\")\n",
    "os.environ[\"GROQ_API_KEY\"]=os.getenv(\"GROQ_API_KEY\")\n",
    "\n",
    "\n",
    "llm=ChatGroq(model=\"qwen-2.5-32b\")\n",
    "#llm = ChatOpenAI(model=\"gpt-4o\")\n",
    "result=llm.invoke(\"Hello\")\n",
    "result"
   ]
  },
  {
   "cell_type": "code",
   "execution_count": 15,
   "metadata": {},
   "outputs": [
    {
     "data": {
      "image/png": "[encoded data removed]",
      "text/plain": [
       "<IPython.core.display.Image object>"
      ]
     },
     "metadata": {},
     "output_type": "display_data"
    }
   ],
   "source": [
    "from typing_extensions import TypedDict\n",
    "from langgraph.graph import StateGraph, START, END\n",
    "from IPython.display import Image, display\n",
    "from typing_extensions import Literal\n",
    "from pydantic import BaseModel, Field\n",
    "from langchain_core.messages import HumanMessage, SystemMessage\n",
    "\n",
    "# Graph state\n",
    "class State(TypedDict):\n",
    "    code: str\n",
    "    requirement: str\n",
    "    feedback: str\n",
    "    correct_or_not: str\n",
    "    docstring: str\n",
    "\n",
    "# Schema for structured output to use in review\n",
    "class Feedback(BaseModel):\n",
    "    review: Literal[\"correct\", \"not correct\"] = Field(\n",
    "        description=\"Decide if the code is correct as per requirement or not.\",\n",
    "    )\n",
    "    feedback: str = Field(\n",
    "        description=\"If the code is not as per requirement, provide feedback.\",\n",
    "    )\n",
    "\n",
    "# Augment the LLM with schema for structured output\n",
    "reviewer = llm.with_structured_output(Feedback)\n",
    "\n",
    "# Nodes\n",
    "def llm_code_generator(state: State):\n",
    "    \"\"\"LLM generates code\"\"\"\n",
    "\n",
    "    if state.get(\"feedback\"):\n",
    "        msg = llm.invoke(\n",
    "            f\"Write a code for the requirement: {state['requirement']} but take into account the feedback: {state['feedback']}, No preambles.\"\n",
    "        )\n",
    "    else:\n",
    "        msg = llm.invoke(f\"Write a code for the requirement {state['requirement']}, No preambles.\")\n",
    "    return {\"code\": msg.content}\n",
    "\n",
    "def llm_code_reviewer(state: State):\n",
    "    \"\"\"LLM reviews code\"\"\"\n",
    "\n",
    "    feedback = reviewer.invoke(f\"Review the code {state['code']} for the requirement {state['requirement']}\")\n",
    "    return {\"correct_or_not\": feedback.review, \"feedback\": feedback.feedback}\n",
    "\n",
    "def llm_docstring_generator(state: State):\n",
    "    \"\"\"LLM generates doctring for the code in markdowm format\"\"\"\n",
    "\n",
    "    docString = llm.invoke(f\"Generate the Doc string for the code {state['code']} in markdown format\")\n",
    "    #print(\"Doctring: \", docString.content)\n",
    "    return {\"docstring\": docString.content}\n",
    "\n",
    "# Conditional edge function to route back to code generator or end based upon feedback from the reviewer\n",
    "def route_code(state: State):\n",
    "    \"\"\"Route back to joke generator or end based upon feedback from the evaluator\"\"\"\n",
    "\n",
    "    if state[\"correct_or_not\"] == \"correct\":\n",
    "        return \"Accepted\"\n",
    "    elif state[\"correct_or_not\"] == \"not correct\":\n",
    "        return \"Rejected + Feedback\"\n",
    "\n",
    "# Build workflow\n",
    "reviewer_builder = StateGraph(State)\n",
    "\n",
    "#Add the nodes\n",
    "reviewer_builder.add_node(\"Code Generator\", llm_code_generator)\n",
    "reviewer_builder.add_node(\"Code Reviewer\", llm_code_reviewer)\n",
    "reviewer_builder.add_node(\"Docstring Generator\", llm_docstring_generator)\n",
    "\n",
    "# Add edges to connect nodes\n",
    "reviewer_builder.add_edge(START, \"Code Generator\")\n",
    "reviewer_builder.add_edge(\"Code Generator\", \"Code Reviewer\")\n",
    "reviewer_builder.add_conditional_edges(\"Code Reviewer\", route_code,\n",
    "    {\n",
    "        \"Accepted\": \"Docstring Generator\",\n",
    "        \"Rejected + Feedback\": \"Code Generator\"\n",
    "    }\n",
    ")\n",
    "\n",
    "reviewer_builder.add_edge(\"Docstring Generator\", END)\n",
    "\n",
    "reviewer_workflow = reviewer_builder.compile()\n",
    "\n",
    "# Show the workflow\n",
    "display(Image(reviewer_workflow.get_graph().draw_mermaid_png()))"
   ]
  },
  {
   "cell_type": "code",
   "execution_count": 17,
   "metadata": {},
   "outputs": [
    {
     "name": "stdout",
     "output_type": "stream",
     "text": [
      "```python\n",
      "def add_two_numbers(a, b):\n",
      "    return a + b\n",
      "\n",
      "result = add_two_numbers(3, 5)\n",
      "print(result)\n",
      "```\n",
      "------------------------\n",
      "Here is the docstring for the provided Python code in markdown format:\n",
      "\n",
      "```markdown\n",
      "## Function: `add_two_numbers`\n",
      "\n",
      "- **Description**: This function takes two numbers as input and returns their sum.\n",
      "- **Parameters**:\n",
      "  - `a`: The first number to be added.\n",
      "  - `b`: The second number to be added.\n",
      "- **Returns**: The sum of `a` and `b`.\n",
      "\n",
      "## Usage Example\n",
      "\n",
      "```python\n",
      "result = add_two_numbers(3, 5)\n",
      "print(result)  # Output will be 8\n",
      "```\n",
      "```\n"
     ]
    }
   ],
   "source": [
    "# Invoke\n",
    "state = reviewer_workflow.invoke({\"requirement\": \"Write a code for adding two numbers\"})\n",
    "print(state[\"code\"])\n",
    "print(\"------------------------\")\n",
    "print(state[\"docstring\"])"
   ]
  },
  {
   "cell_type": "code",
   "execution_count": null,
   "metadata": {},
   "outputs": [],
   "source": []
  }
 ],
 "metadata": {
  "kernelspec": {
   "display_name": "Python 3",
   "language": "python",
   "name": "python3"
  },
  "language_info": {
   "codemirror_mode": {
    "name": "ipython",
    "version": 3
   },
   "file_extension": ".py",
   "mimetype": "text/x-python",
   "name": "python",
   "nbconvert_exporter": "python",
   "pygments_lexer": "ipython3",
   "version": "3.12.0"
  }
 },
 "nbformat": 4,
 "nbformat_minor": 2
}
